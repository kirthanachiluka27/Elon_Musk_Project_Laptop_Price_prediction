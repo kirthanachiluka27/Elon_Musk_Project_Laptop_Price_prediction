{
 "cells": [
  {
   "cell_type": "markdown",
   "id": "1fd5429b",
   "metadata": {},
   "source": [
    "# Laptop Price Prediction \n",
    "\n",
    "Elon Musk Project"
   ]
  },
  {
   "cell_type": "code",
   "execution_count": 2,
   "id": "0e6ba250",
   "metadata": {},
   "outputs": [],
   "source": [
    "import pandas as pd\n",
    "import numpy as np\n",
    "import matplotlib.pyplot as plt\n",
    "import seaborn as sns"
   ]
  },
  {
   "cell_type": "code",
   "execution_count": 87,
   "id": "32a966ed",
   "metadata": {},
   "outputs": [],
   "source": [
    "data=pd.read_csv(r\"C:\\Users\\DELL\\Downloads\\laptop_details.csv\")"
   ]
  },
  {
   "cell_type": "code",
   "execution_count": 88,
   "id": "6ae83fe4",
   "metadata": {},
   "outputs": [],
   "source": [
    "df=data.copy()"
   ]
  },
  {
   "cell_type": "code",
   "execution_count": 89,
   "id": "0311fcd6",
   "metadata": {},
   "outputs": [
    {
     "data": {
      "text/html": [
       "<div>\n",
       "<style scoped>\n",
       "    .dataframe tbody tr th:only-of-type {\n",
       "        vertical-align: middle;\n",
       "    }\n",
       "\n",
       "    .dataframe tbody tr th {\n",
       "        vertical-align: top;\n",
       "    }\n",
       "\n",
       "    .dataframe thead th {\n",
       "        text-align: right;\n",
       "    }\n",
       "</style>\n",
       "<table border=\"1\" class=\"dataframe\">\n",
       "  <thead>\n",
       "    <tr style=\"text-align: right;\">\n",
       "      <th></th>\n",
       "      <th>Product</th>\n",
       "      <th>Rating</th>\n",
       "      <th>MRP</th>\n",
       "      <th>Feature</th>\n",
       "    </tr>\n",
       "  </thead>\n",
       "  <tbody>\n",
       "    <tr>\n",
       "      <th>0</th>\n",
       "      <td>Lenovo IdeaPad 3 Core i3 11th Gen - (8 GB/256 ...</td>\n",
       "      <td>4.2</td>\n",
       "      <td>₹36,990</td>\n",
       "      <td>Intel Core i3 Processor (11th Gen)8 GB DDR4 RA...</td>\n",
       "    </tr>\n",
       "    <tr>\n",
       "      <th>1</th>\n",
       "      <td>Lenovo IdeaPad 3 Core i3 11th Gen - (8 GB/512 ...</td>\n",
       "      <td>4.2</td>\n",
       "      <td>₹39,990</td>\n",
       "      <td>Intel Core i3 Processor (11th Gen)8 GB DDR4 RA...</td>\n",
       "    </tr>\n",
       "    <tr>\n",
       "      <th>2</th>\n",
       "      <td>ASUS VivoBook 15 (2022) Core i3 10th Gen - (8 ...</td>\n",
       "      <td>4.3</td>\n",
       "      <td>₹32,990</td>\n",
       "      <td>Intel Core i3 Processor (10th Gen)8 GB DDR4 RA...</td>\n",
       "    </tr>\n",
       "    <tr>\n",
       "      <th>3</th>\n",
       "      <td>HP Pavilion Ryzen 5 Hexa Core AMD R5-5600H - (...</td>\n",
       "      <td>4.4</td>\n",
       "      <td>₹49,990</td>\n",
       "      <td>AMD Ryzen 5 Hexa Core Processor8 GB DDR4 RAM64...</td>\n",
       "    </tr>\n",
       "    <tr>\n",
       "      <th>4</th>\n",
       "      <td>ASUS TUF Gaming F15 Core i5 10th Gen - (8 GB/5...</td>\n",
       "      <td>4.4</td>\n",
       "      <td>₹49,990</td>\n",
       "      <td>Intel Core i5 Processor (10th Gen)8 GB DDR4 RA...</td>\n",
       "    </tr>\n",
       "    <tr>\n",
       "      <th>...</th>\n",
       "      <td>...</td>\n",
       "      <td>...</td>\n",
       "      <td>...</td>\n",
       "      <td>...</td>\n",
       "    </tr>\n",
       "    <tr>\n",
       "      <th>715</th>\n",
       "      <td>ASUS Chromebook Flip Touch Celeron Dual Core -...</td>\n",
       "      <td>4.0</td>\n",
       "      <td>₹23,490</td>\n",
       "      <td>Intel Celeron Dual Core Processor4 GB LPDDR4 R...</td>\n",
       "    </tr>\n",
       "    <tr>\n",
       "      <th>716</th>\n",
       "      <td>Lenovo IdeaPad Gaming 3 Ryzen 7 Octa Core AMD ...</td>\n",
       "      <td>4.5</td>\n",
       "      <td>₹73,490</td>\n",
       "      <td>AMD Ryzen 7 Octa Core Processor8 GB DDR4 RAM64...</td>\n",
       "    </tr>\n",
       "    <tr>\n",
       "      <th>717</th>\n",
       "      <td>ASUS ROG Zephyrus G15 Ryzen 9 Octa Core 6900HS...</td>\n",
       "      <td>NaN</td>\n",
       "      <td>₹1,94,990</td>\n",
       "      <td>AMD Ryzen 9 Octa Core Processor16 GB DDR5 RAM6...</td>\n",
       "    </tr>\n",
       "    <tr>\n",
       "      <th>718</th>\n",
       "      <td>ASUS Zenbook Flip 14 OLED (2022) Touch Panel C...</td>\n",
       "      <td>3.0</td>\n",
       "      <td>₹1,25,990</td>\n",
       "      <td>Intel Core i7 Processor (12th Gen)16 GB LPDDR5...</td>\n",
       "    </tr>\n",
       "    <tr>\n",
       "      <th>719</th>\n",
       "      <td>Lenovo Ideapad Slim 3i Core i5 10th Gen - (8 G...</td>\n",
       "      <td>4.2</td>\n",
       "      <td>₹50,990</td>\n",
       "      <td>Intel Core i5 Processor (10th Gen)8 GB DDR4 RA...</td>\n",
       "    </tr>\n",
       "  </tbody>\n",
       "</table>\n",
       "<p>720 rows × 4 columns</p>\n",
       "</div>"
      ],
      "text/plain": [
       "                                               Product  Rating        MRP  \\\n",
       "0    Lenovo IdeaPad 3 Core i3 11th Gen - (8 GB/256 ...     4.2    ₹36,990   \n",
       "1    Lenovo IdeaPad 3 Core i3 11th Gen - (8 GB/512 ...     4.2    ₹39,990   \n",
       "2    ASUS VivoBook 15 (2022) Core i3 10th Gen - (8 ...     4.3    ₹32,990   \n",
       "3    HP Pavilion Ryzen 5 Hexa Core AMD R5-5600H - (...     4.4    ₹49,990   \n",
       "4    ASUS TUF Gaming F15 Core i5 10th Gen - (8 GB/5...     4.4    ₹49,990   \n",
       "..                                                 ...     ...        ...   \n",
       "715  ASUS Chromebook Flip Touch Celeron Dual Core -...     4.0    ₹23,490   \n",
       "716  Lenovo IdeaPad Gaming 3 Ryzen 7 Octa Core AMD ...     4.5    ₹73,490   \n",
       "717  ASUS ROG Zephyrus G15 Ryzen 9 Octa Core 6900HS...     NaN  ₹1,94,990   \n",
       "718  ASUS Zenbook Flip 14 OLED (2022) Touch Panel C...     3.0  ₹1,25,990   \n",
       "719  Lenovo Ideapad Slim 3i Core i5 10th Gen - (8 G...     4.2    ₹50,990   \n",
       "\n",
       "                                               Feature  \n",
       "0    Intel Core i3 Processor (11th Gen)8 GB DDR4 RA...  \n",
       "1    Intel Core i3 Processor (11th Gen)8 GB DDR4 RA...  \n",
       "2    Intel Core i3 Processor (10th Gen)8 GB DDR4 RA...  \n",
       "3    AMD Ryzen 5 Hexa Core Processor8 GB DDR4 RAM64...  \n",
       "4    Intel Core i5 Processor (10th Gen)8 GB DDR4 RA...  \n",
       "..                                                 ...  \n",
       "715  Intel Celeron Dual Core Processor4 GB LPDDR4 R...  \n",
       "716  AMD Ryzen 7 Octa Core Processor8 GB DDR4 RAM64...  \n",
       "717  AMD Ryzen 9 Octa Core Processor16 GB DDR5 RAM6...  \n",
       "718  Intel Core i7 Processor (12th Gen)16 GB LPDDR5...  \n",
       "719  Intel Core i5 Processor (10th Gen)8 GB DDR4 RA...  \n",
       "\n",
       "[720 rows x 4 columns]"
      ]
     },
     "execution_count": 89,
     "metadata": {},
     "output_type": "execute_result"
    }
   ],
   "source": [
    "df"
   ]
  },
  {
   "cell_type": "code",
   "execution_count": 90,
   "id": "ff80dcd8",
   "metadata": {},
   "outputs": [
    {
     "name": "stdout",
     "output_type": "stream",
     "text": [
      "<class 'pandas.core.frame.DataFrame'>\n",
      "RangeIndex: 720 entries, 0 to 719\n",
      "Data columns (total 4 columns):\n",
      " #   Column   Non-Null Count  Dtype  \n",
      "---  ------   --------------  -----  \n",
      " 0   Product  720 non-null    object \n",
      " 1   Rating   581 non-null    float64\n",
      " 2   MRP      720 non-null    object \n",
      " 3   Feature  720 non-null    object \n",
      "dtypes: float64(1), object(3)\n",
      "memory usage: 22.6+ KB\n"
     ]
    }
   ],
   "source": [
    "df.info()"
   ]
  },
  {
   "cell_type": "code",
   "execution_count": 91,
   "id": "b16ec21b",
   "metadata": {},
   "outputs": [
    {
     "data": {
      "text/plain": [
       "Product      0\n",
       "Rating     139\n",
       "MRP          0\n",
       "Feature      0\n",
       "dtype: int64"
      ]
     },
     "execution_count": 91,
     "metadata": {},
     "output_type": "execute_result"
    }
   ],
   "source": [
    "df.isnull().sum()"
   ]
  },
  {
   "cell_type": "code",
   "execution_count": null,
   "id": "e9cd2552",
   "metadata": {},
   "outputs": [],
   "source": [
    "#There are null values in rating column"
   ]
  },
  {
   "cell_type": "code",
   "execution_count": 92,
   "id": "abb40998",
   "metadata": {},
   "outputs": [
    {
     "data": {
      "text/plain": [
       "297"
      ]
     },
     "execution_count": 92,
     "metadata": {},
     "output_type": "execute_result"
    }
   ],
   "source": [
    "df.duplicated().sum()"
   ]
  },
  {
   "cell_type": "code",
   "execution_count": 93,
   "id": "b4fd7d78",
   "metadata": {},
   "outputs": [],
   "source": [
    "df= df.drop_duplicates().reset_index(drop=True)"
   ]
  },
  {
   "cell_type": "code",
   "execution_count": 94,
   "id": "2e2c05e1",
   "metadata": {},
   "outputs": [
    {
     "data": {
      "text/plain": [
       "array([4.2, 4.3, 4.4, 4.1, nan, 4.6, 4.7, 3.7, 4.9, 3.9, 4. , 4.5, 4.8,\n",
       "       5. , 3.8, 3.4, 3.5, 3.6, 3. ])"
      ]
     },
     "execution_count": 94,
     "metadata": {},
     "output_type": "execute_result"
    }
   ],
   "source": [
    "df[\"Rating\"].unique()"
   ]
  },
  {
   "cell_type": "code",
   "execution_count": 95,
   "id": "a9b9edef",
   "metadata": {},
   "outputs": [
    {
     "data": {
      "text/plain": [
       "Index(['Product', 'Rating', 'MRP', 'Feature'], dtype='object')"
      ]
     },
     "execution_count": 95,
     "metadata": {},
     "output_type": "execute_result"
    }
   ],
   "source": [
    "df.columns"
   ]
  },
  {
   "cell_type": "code",
   "execution_count": 96,
   "id": "f22aff6d",
   "metadata": {
    "scrolled": true
   },
   "outputs": [
    {
     "name": "stderr",
     "output_type": "stream",
     "text": [
      "C:\\Users\\DELL\\anaconda3\\lib\\site-packages\\seaborn\\_decorators.py:36: FutureWarning: Pass the following variable as a keyword arg: x. From version 0.12, the only valid positional argument will be `data`, and passing other arguments without an explicit keyword will result in an error or misinterpretation.\n",
      "  warnings.warn(\n"
     ]
    },
    {
     "data": {
      "text/plain": [
       "<AxesSubplot:xlabel='Rating'>"
      ]
     },
     "execution_count": 96,
     "metadata": {},
     "output_type": "execute_result"
    },
    {
     "data": {
      "image/png": "[encoded data removed]",
      "text/plain": [
       "<Figure size 432x288 with 1 Axes>"
      ]
     },
     "metadata": {
      "needs_background": "light"
     },
     "output_type": "display_data"
    }
   ],
   "source": [
    "sns.boxplot(df[\"Rating\"])"
   ]
  },
  {
   "cell_type": "code",
   "execution_count": null,
   "id": "48d67084",
   "metadata": {},
   "outputs": [],
   "source": [
    "#from the above plot it is visible that there are outliers"
   ]
  },
  {
   "cell_type": "code",
   "execution_count": 97,
   "id": "caa66f24",
   "metadata": {},
   "outputs": [
    {
     "data": {
      "text/plain": [
       "0.08994309751968008"
      ]
     },
     "execution_count": 97,
     "metadata": {},
     "output_type": "execute_result"
    }
   ],
   "source": [
    "df[\"Rating\"].var()"
   ]
  },
  {
   "cell_type": "code",
   "execution_count": 98,
   "id": "a7921109",
   "metadata": {},
   "outputs": [
    {
     "data": {
      "text/plain": [
       "0.07208172274321337"
      ]
     },
     "execution_count": 98,
     "metadata": {},
     "output_type": "execute_result"
    }
   ],
   "source": [
    "df[\"Rating\"].fillna(df[\"Rating\"].median()).var()"
   ]
  },
  {
   "cell_type": "code",
   "execution_count": 99,
   "id": "83288290",
   "metadata": {},
   "outputs": [],
   "source": [
    "def Random_Sample_imputation(feature):\n",
    "    random_sample = df[feature].dropna().sample(df[feature].isnull().sum())\n",
    "    random_sample.index = df[df[feature].isnull()].index\n",
    "    df.loc[df[feature].isnull(),feature]=random_sample"
   ]
  },
  {
   "cell_type": "code",
   "execution_count": 100,
   "id": "0cdc4af3",
   "metadata": {},
   "outputs": [],
   "source": [
    "Random_Sample_imputation(\"Rating\")"
   ]
  },
  {
   "cell_type": "code",
   "execution_count": 101,
   "id": "5e4cb79a",
   "metadata": {},
   "outputs": [
    {
     "data": {
      "text/plain": [
       "0.08854301816185425"
      ]
     },
     "execution_count": 101,
     "metadata": {},
     "output_type": "execute_result"
    }
   ],
   "source": [
    "df[\"Rating\"].var()"
   ]
  },
  {
   "cell_type": "code",
   "execution_count": 102,
   "id": "af0ef6c2",
   "metadata": {},
   "outputs": [
    {
     "data": {
      "text/plain": [
       "Product    0\n",
       "Rating     0\n",
       "MRP        0\n",
       "Feature    0\n",
       "dtype: int64"
      ]
     },
     "execution_count": 102,
     "metadata": {},
     "output_type": "execute_result"
    }
   ],
   "source": [
    "df.isnull().sum()"
   ]
  },
  {
   "cell_type": "code",
   "execution_count": 103,
   "id": "92b4a518",
   "metadata": {},
   "outputs": [
    {
     "data": {
      "text/html": [
       "<div>\n",
       "<style scoped>\n",
       "    .dataframe tbody tr th:only-of-type {\n",
       "        vertical-align: middle;\n",
       "    }\n",
       "\n",
       "    .dataframe tbody tr th {\n",
       "        vertical-align: top;\n",
       "    }\n",
       "\n",
       "    .dataframe thead th {\n",
       "        text-align: right;\n",
       "    }\n",
       "</style>\n",
       "<table border=\"1\" class=\"dataframe\">\n",
       "  <thead>\n",
       "    <tr style=\"text-align: right;\">\n",
       "      <th></th>\n",
       "      <th>Product</th>\n",
       "      <th>Rating</th>\n",
       "      <th>MRP</th>\n",
       "      <th>Feature</th>\n",
       "    </tr>\n",
       "  </thead>\n",
       "  <tbody>\n",
       "    <tr>\n",
       "      <th>0</th>\n",
       "      <td>Lenovo IdeaPad 3 Core i3 11th Gen - (8 GB/256 ...</td>\n",
       "      <td>4.2</td>\n",
       "      <td>₹36,990</td>\n",
       "      <td>Intel Core i3 Processor (11th Gen)8 GB DDR4 RA...</td>\n",
       "    </tr>\n",
       "    <tr>\n",
       "      <th>1</th>\n",
       "      <td>Lenovo IdeaPad 3 Core i3 11th Gen - (8 GB/512 ...</td>\n",
       "      <td>4.2</td>\n",
       "      <td>₹39,990</td>\n",
       "      <td>Intel Core i3 Processor (11th Gen)8 GB DDR4 RA...</td>\n",
       "    </tr>\n",
       "    <tr>\n",
       "      <th>2</th>\n",
       "      <td>ASUS VivoBook 15 (2022) Core i3 10th Gen - (8 ...</td>\n",
       "      <td>4.3</td>\n",
       "      <td>₹32,990</td>\n",
       "      <td>Intel Core i3 Processor (10th Gen)8 GB DDR4 RA...</td>\n",
       "    </tr>\n",
       "    <tr>\n",
       "      <th>3</th>\n",
       "      <td>HP Pavilion Ryzen 5 Hexa Core AMD R5-5600H - (...</td>\n",
       "      <td>4.4</td>\n",
       "      <td>₹49,990</td>\n",
       "      <td>AMD Ryzen 5 Hexa Core Processor8 GB DDR4 RAM64...</td>\n",
       "    </tr>\n",
       "    <tr>\n",
       "      <th>4</th>\n",
       "      <td>ASUS TUF Gaming F15 Core i5 10th Gen - (8 GB/5...</td>\n",
       "      <td>4.4</td>\n",
       "      <td>₹49,990</td>\n",
       "      <td>Intel Core i5 Processor (10th Gen)8 GB DDR4 RA...</td>\n",
       "    </tr>\n",
       "  </tbody>\n",
       "</table>\n",
       "</div>"
      ],
      "text/plain": [
       "                                             Product  Rating      MRP  \\\n",
       "0  Lenovo IdeaPad 3 Core i3 11th Gen - (8 GB/256 ...     4.2  ₹36,990   \n",
       "1  Lenovo IdeaPad 3 Core i3 11th Gen - (8 GB/512 ...     4.2  ₹39,990   \n",
       "2  ASUS VivoBook 15 (2022) Core i3 10th Gen - (8 ...     4.3  ₹32,990   \n",
       "3  HP Pavilion Ryzen 5 Hexa Core AMD R5-5600H - (...     4.4  ₹49,990   \n",
       "4  ASUS TUF Gaming F15 Core i5 10th Gen - (8 GB/5...     4.4  ₹49,990   \n",
       "\n",
       "                                             Feature  \n",
       "0  Intel Core i3 Processor (11th Gen)8 GB DDR4 RA...  \n",
       "1  Intel Core i3 Processor (11th Gen)8 GB DDR4 RA...  \n",
       "2  Intel Core i3 Processor (10th Gen)8 GB DDR4 RA...  \n",
       "3  AMD Ryzen 5 Hexa Core Processor8 GB DDR4 RAM64...  \n",
       "4  Intel Core i5 Processor (10th Gen)8 GB DDR4 RA...  "
      ]
     },
     "execution_count": 103,
     "metadata": {},
     "output_type": "execute_result"
    }
   ],
   "source": [
    "df.head()"
   ]
  },
  {
   "cell_type": "code",
   "execution_count": null,
   "id": "631872bf",
   "metadata": {},
   "outputs": [],
   "source": []
  },
  {
   "cell_type": "markdown",
   "id": "2614678b",
   "metadata": {},
   "source": [
    "# PreProcessing"
   ]
  },
  {
   "cell_type": "code",
   "execution_count": 104,
   "id": "35a52b8e",
   "metadata": {},
   "outputs": [
    {
     "data": {
      "text/plain": [
       "'Lenovo IdeaPad 3 Core i3 11th Gen - (8 GB/512 GB SSD/Windows 11 Home) 82H801L7IN | 82H802FJIN | 82H802...'"
      ]
     },
     "execution_count": 104,
     "metadata": {},
     "output_type": "execute_result"
    }
   ],
   "source": [
    "df.loc[1][\"Product\"]"
   ]
  },
  {
   "cell_type": "code",
   "execution_count": null,
   "id": "55e6528c",
   "metadata": {},
   "outputs": [],
   "source": [
    "#to achieve the problem statement we have to slice the column into multiple columns as per requirement"
   ]
  },
  {
   "cell_type": "code",
   "execution_count": 105,
   "id": "a1f06c66",
   "metadata": {},
   "outputs": [
    {
     "data": {
      "text/plain": [
       "'Intel Core i3 Processor (11th Gen)8 GB DDR4 RAM64 bit Windows 11 Operating System512 GB SSD39.62 cm (15.6 inch) DisplayOffice Home and Student 20212 Year Onsite�Warranty'"
      ]
     },
     "execution_count": 105,
     "metadata": {},
     "output_type": "execute_result"
    }
   ],
   "source": [
    "df.loc[1][\"Feature\"]"
   ]
  },
  {
   "cell_type": "code",
   "execution_count": 106,
   "id": "71ad5a03",
   "metadata": {},
   "outputs": [],
   "source": [
    "#df[\"Product\"]=df[\"Product\"].str.split(\" \")"
   ]
  },
  {
   "cell_type": "code",
   "execution_count": 107,
   "id": "7a991910",
   "metadata": {},
   "outputs": [],
   "source": [
    "#df[\"Feature\"]=df[\"Feature\"].str.split(\" \")"
   ]
  },
  {
   "cell_type": "code",
   "execution_count": 108,
   "id": "de9f7d91",
   "metadata": {},
   "outputs": [],
   "source": [
    "dff=pd.DataFrame()"
   ]
  },
  {
   "cell_type": "code",
   "execution_count": 109,
   "id": "42fbf629",
   "metadata": {},
   "outputs": [],
   "source": [
    "dff['Brand'] = df[\"Product\"].apply(lambda x : x.split(\" \")[0])\n",
    "dff['Model_Name'] = df[\"Product\"].apply(lambda x : x.split(\" \")[:6])\n",
    "dff['Model_Name'] = dff[\"Model_Name\"].apply(lambda x : \"\".join(x))\n",
    "dff['Processor_name'] = df[\"Feature\"].apply(lambda x : x.split(\"Processor\")[0])\n",
    "dff[\"ram\"] =df[\"Feature\"].apply(lambda x : x.split(\"Processor\")[1].split (\"RAM\")[0].split(\")\")[-1])\n",
    "dff[\"Processor_generation\"] =df[\"Feature\"].apply(lambda x : x.split (\"Processor\")[1].split(\"RAM\")[0].split(\")\")[0].split(\"(\")[-1])"
   ]
  },
  {
   "cell_type": "code",
   "execution_count": null,
   "id": "199c3a4a",
   "metadata": {},
   "outputs": [],
   "source": [
    "# it is splitted at space and sliced to multiple features and renamed it with respective names"
   ]
  },
  {
   "cell_type": "code",
   "execution_count": 111,
   "id": "6da8554c",
   "metadata": {},
   "outputs": [],
   "source": [
    "dff[\"OS\"]=df[\"Feature\"].apply(lambda x : x.split(\"Processor\")[1].split(\"RAM\")[-1].split(\"Operating System\")[0])"
   ]
  },
  {
   "cell_type": "code",
   "execution_count": 112,
   "id": "332d9b04",
   "metadata": {},
   "outputs": [],
   "source": [
    "dff[\"storage\"] = df[\"Feature\"].apply(lambda x : x.split(\"Processor\")[1].split(\"RAM\")[-1].split(\"Operating System\")[-1].split(\"Display\")[0].split(\"cm\")[0])\n"
   ]
  },
  {
   "cell_type": "code",
   "execution_count": 113,
   "id": "40eade20",
   "metadata": {},
   "outputs": [
    {
     "data": {
      "text/html": [
       "<div>\n",
       "<style scoped>\n",
       "    .dataframe tbody tr th:only-of-type {\n",
       "        vertical-align: middle;\n",
       "    }\n",
       "\n",
       "    .dataframe tbody tr th {\n",
       "        vertical-align: top;\n",
       "    }\n",
       "\n",
       "    .dataframe thead th {\n",
       "        text-align: right;\n",
       "    }\n",
       "</style>\n",
       "<table border=\"1\" class=\"dataframe\">\n",
       "  <thead>\n",
       "    <tr style=\"text-align: right;\">\n",
       "      <th></th>\n",
       "      <th>Brand</th>\n",
       "      <th>Model_Name</th>\n",
       "      <th>Processor_name</th>\n",
       "      <th>ram</th>\n",
       "      <th>Processor_generation</th>\n",
       "      <th>OS</th>\n",
       "      <th>storage</th>\n",
       "    </tr>\n",
       "  </thead>\n",
       "  <tbody>\n",
       "    <tr>\n",
       "      <th>0</th>\n",
       "      <td>Lenovo</td>\n",
       "      <td>LenovoIdeaPad3Corei311th</td>\n",
       "      <td>Intel Core i3</td>\n",
       "      <td>8 GB DDR4</td>\n",
       "      <td>11th Gen</td>\n",
       "      <td>64 bit Windows 11</td>\n",
       "      <td>256 GB SSD35.56</td>\n",
       "    </tr>\n",
       "    <tr>\n",
       "      <th>1</th>\n",
       "      <td>Lenovo</td>\n",
       "      <td>LenovoIdeaPad3Corei311th</td>\n",
       "      <td>Intel Core i3</td>\n",
       "      <td>8 GB DDR4</td>\n",
       "      <td>11th Gen</td>\n",
       "      <td>64 bit Windows 11</td>\n",
       "      <td>512 GB SSD39.62</td>\n",
       "    </tr>\n",
       "    <tr>\n",
       "      <th>2</th>\n",
       "      <td>ASUS</td>\n",
       "      <td>ASUSVivoBook15(2022)Corei3</td>\n",
       "      <td>Intel Core i3</td>\n",
       "      <td>8 GB DDR4</td>\n",
       "      <td>10th Gen</td>\n",
       "      <td>64 bit Windows 11</td>\n",
       "      <td>512 GB SSD39.62</td>\n",
       "    </tr>\n",
       "    <tr>\n",
       "      <th>3</th>\n",
       "      <td>HP</td>\n",
       "      <td>HPPavilionRyzen5HexaCore</td>\n",
       "      <td>AMD Ryzen 5 Hexa Core</td>\n",
       "      <td>8 GB DDR4</td>\n",
       "      <td>8 GB DDR4</td>\n",
       "      <td>64 bit Windows 10</td>\n",
       "      <td>512 GB SSD39.62</td>\n",
       "    </tr>\n",
       "    <tr>\n",
       "      <th>4</th>\n",
       "      <td>ASUS</td>\n",
       "      <td>ASUSTUFGamingF15Corei5</td>\n",
       "      <td>Intel Core i5</td>\n",
       "      <td>8 GB DDR4</td>\n",
       "      <td>10th Gen</td>\n",
       "      <td>Windows 11</td>\n",
       "      <td>512 GB SSD39.62</td>\n",
       "    </tr>\n",
       "    <tr>\n",
       "      <th>...</th>\n",
       "      <td>...</td>\n",
       "      <td>...</td>\n",
       "      <td>...</td>\n",
       "      <td>...</td>\n",
       "      <td>...</td>\n",
       "      <td>...</td>\n",
       "      <td>...</td>\n",
       "    </tr>\n",
       "    <tr>\n",
       "      <th>418</th>\n",
       "      <td>DELL</td>\n",
       "      <td>DELLCorei512thGen-</td>\n",
       "      <td>Intel Core i5</td>\n",
       "      <td>16 GB DDR5</td>\n",
       "      <td>12th Gen</td>\n",
       "      <td>64 bit Windows 11</td>\n",
       "      <td>512 GB SSD33.78</td>\n",
       "    </tr>\n",
       "    <tr>\n",
       "      <th>419</th>\n",
       "      <td>HP</td>\n",
       "      <td>HPPavilionRyzen7OctaCore</td>\n",
       "      <td>AMD Ryzen 7 Octa Core</td>\n",
       "      <td>16 GB DDR4</td>\n",
       "      <td>16 GB DDR4</td>\n",
       "      <td>64 bit Windows 10</td>\n",
       "      <td>512 GB SSD39.62</td>\n",
       "    </tr>\n",
       "    <tr>\n",
       "      <th>420</th>\n",
       "      <td>ASUS</td>\n",
       "      <td>ASUSChromebookFlipTouchCeleronDual</td>\n",
       "      <td>Intel Celeron Dual Core</td>\n",
       "      <td>4 GB LPDDR4</td>\n",
       "      <td>4 GB LPDDR4</td>\n",
       "      <td>Chrome</td>\n",
       "      <td>29.46</td>\n",
       "    </tr>\n",
       "    <tr>\n",
       "      <th>421</th>\n",
       "      <td>ASUS</td>\n",
       "      <td>ASUSZenbookFlip14OLED(2022)</td>\n",
       "      <td>Intel Core i7</td>\n",
       "      <td>16 GB LPDDR5</td>\n",
       "      <td>12th Gen</td>\n",
       "      <td>64 bit Windows 11</td>\n",
       "      <td>512 GB SSD35.56</td>\n",
       "    </tr>\n",
       "    <tr>\n",
       "      <th>422</th>\n",
       "      <td>Lenovo</td>\n",
       "      <td>LenovoIdeapadSlim3iCorei5</td>\n",
       "      <td>Intel Core i5</td>\n",
       "      <td>8 GB DDR4</td>\n",
       "      <td>10th Gen</td>\n",
       "      <td>64 bit Windows 10</td>\n",
       "      <td>1 TB HDD|256 GB SSD39.62</td>\n",
       "    </tr>\n",
       "  </tbody>\n",
       "</table>\n",
       "<p>423 rows × 7 columns</p>\n",
       "</div>"
      ],
      "text/plain": [
       "      Brand                          Model_Name            Processor_name  \\\n",
       "0    Lenovo            LenovoIdeaPad3Corei311th            Intel Core i3    \n",
       "1    Lenovo            LenovoIdeaPad3Corei311th            Intel Core i3    \n",
       "2      ASUS          ASUSVivoBook15(2022)Corei3            Intel Core i3    \n",
       "3        HP            HPPavilionRyzen5HexaCore    AMD Ryzen 5 Hexa Core    \n",
       "4      ASUS              ASUSTUFGamingF15Corei5            Intel Core i5    \n",
       "..      ...                                 ...                       ...   \n",
       "418    DELL                  DELLCorei512thGen-            Intel Core i5    \n",
       "419      HP            HPPavilionRyzen7OctaCore    AMD Ryzen 7 Octa Core    \n",
       "420    ASUS  ASUSChromebookFlipTouchCeleronDual  Intel Celeron Dual Core    \n",
       "421    ASUS         ASUSZenbookFlip14OLED(2022)            Intel Core i7    \n",
       "422  Lenovo           LenovoIdeapadSlim3iCorei5            Intel Core i5    \n",
       "\n",
       "               ram Processor_generation                  OS  \\\n",
       "0       8 GB DDR4              11th Gen  64 bit Windows 11    \n",
       "1       8 GB DDR4              11th Gen  64 bit Windows 11    \n",
       "2       8 GB DDR4              10th Gen  64 bit Windows 11    \n",
       "3       8 GB DDR4            8 GB DDR4   64 bit Windows 10    \n",
       "4       8 GB DDR4              10th Gen         Windows 11    \n",
       "..             ...                  ...                 ...   \n",
       "418    16 GB DDR5              12th Gen  64 bit Windows 11    \n",
       "419    16 GB DDR4           16 GB DDR4   64 bit Windows 10    \n",
       "420   4 GB LPDDR4          4 GB LPDDR4              Chrome    \n",
       "421  16 GB LPDDR5              12th Gen  64 bit Windows 11    \n",
       "422     8 GB DDR4              10th Gen  64 bit Windows 10    \n",
       "\n",
       "                       storage  \n",
       "0             256 GB SSD35.56   \n",
       "1             512 GB SSD39.62   \n",
       "2             512 GB SSD39.62   \n",
       "3             512 GB SSD39.62   \n",
       "4             512 GB SSD39.62   \n",
       "..                         ...  \n",
       "418           512 GB SSD33.78   \n",
       "419           512 GB SSD39.62   \n",
       "420                     29.46   \n",
       "421           512 GB SSD35.56   \n",
       "422  1 TB HDD|256 GB SSD39.62   \n",
       "\n",
       "[423 rows x 7 columns]"
      ]
     },
     "execution_count": 113,
     "metadata": {},
     "output_type": "execute_result"
    }
   ],
   "source": [
    "dff"
   ]
  },
  {
   "cell_type": "code",
   "execution_count": 114,
   "id": "6ec4011d",
   "metadata": {},
   "outputs": [],
   "source": [
    "dff[\"screen_size\"] = df[\"Feature\"].apply(lambda x : x.split(\"Processor\")[1].split(\"RAM\")[-1].split(\"Operating System\")[-1].split(\"Display\")[0].split(\"cm\")[-1])\n"
   ]
  },
  {
   "cell_type": "code",
   "execution_count": 115,
   "id": "845a4c1d",
   "metadata": {},
   "outputs": [],
   "source": [
    "dff[\"rating\"] = df[\"Rating\"]\n",
    "dff[\"price\"] = df[\"MRP\"]"
   ]
  },
  {
   "cell_type": "code",
   "execution_count": null,
   "id": "b69c2c38",
   "metadata": {},
   "outputs": [],
   "source": []
  },
  {
   "cell_type": "code",
   "execution_count": 116,
   "id": "8491c504",
   "metadata": {},
   "outputs": [
    {
     "data": {
      "text/html": [
       "<div>\n",
       "<style scoped>\n",
       "    .dataframe tbody tr th:only-of-type {\n",
       "        vertical-align: middle;\n",
       "    }\n",
       "\n",
       "    .dataframe tbody tr th {\n",
       "        vertical-align: top;\n",
       "    }\n",
       "\n",
       "    .dataframe thead th {\n",
       "        text-align: right;\n",
       "    }\n",
       "</style>\n",
       "<table border=\"1\" class=\"dataframe\">\n",
       "  <thead>\n",
       "    <tr style=\"text-align: right;\">\n",
       "      <th></th>\n",
       "      <th>Brand</th>\n",
       "      <th>Model_Name</th>\n",
       "      <th>Processor_name</th>\n",
       "      <th>ram</th>\n",
       "      <th>Processor_generation</th>\n",
       "      <th>OS</th>\n",
       "      <th>storage</th>\n",
       "      <th>screen_size</th>\n",
       "      <th>rating</th>\n",
       "      <th>price</th>\n",
       "    </tr>\n",
       "  </thead>\n",
       "  <tbody>\n",
       "    <tr>\n",
       "      <th>0</th>\n",
       "      <td>Lenovo</td>\n",
       "      <td>LenovoIdeaPad3Corei311th</td>\n",
       "      <td>Intel Core i3</td>\n",
       "      <td>8 GB DDR4</td>\n",
       "      <td>11th Gen</td>\n",
       "      <td>64 bit Windows 11</td>\n",
       "      <td>256 GB SSD35.56</td>\n",
       "      <td>(14 inch)</td>\n",
       "      <td>4.2</td>\n",
       "      <td>₹36,990</td>\n",
       "    </tr>\n",
       "    <tr>\n",
       "      <th>1</th>\n",
       "      <td>Lenovo</td>\n",
       "      <td>LenovoIdeaPad3Corei311th</td>\n",
       "      <td>Intel Core i3</td>\n",
       "      <td>8 GB DDR4</td>\n",
       "      <td>11th Gen</td>\n",
       "      <td>64 bit Windows 11</td>\n",
       "      <td>512 GB SSD39.62</td>\n",
       "      <td>(15.6 inch)</td>\n",
       "      <td>4.2</td>\n",
       "      <td>₹39,990</td>\n",
       "    </tr>\n",
       "    <tr>\n",
       "      <th>2</th>\n",
       "      <td>ASUS</td>\n",
       "      <td>ASUSVivoBook15(2022)Corei3</td>\n",
       "      <td>Intel Core i3</td>\n",
       "      <td>8 GB DDR4</td>\n",
       "      <td>10th Gen</td>\n",
       "      <td>64 bit Windows 11</td>\n",
       "      <td>512 GB SSD39.62</td>\n",
       "      <td>(15.6 inch)</td>\n",
       "      <td>4.3</td>\n",
       "      <td>₹32,990</td>\n",
       "    </tr>\n",
       "    <tr>\n",
       "      <th>3</th>\n",
       "      <td>HP</td>\n",
       "      <td>HPPavilionRyzen5HexaCore</td>\n",
       "      <td>AMD Ryzen 5 Hexa Core</td>\n",
       "      <td>8 GB DDR4</td>\n",
       "      <td>8 GB DDR4</td>\n",
       "      <td>64 bit Windows 10</td>\n",
       "      <td>512 GB SSD39.62</td>\n",
       "      <td>(15.6 inch)</td>\n",
       "      <td>4.4</td>\n",
       "      <td>₹49,990</td>\n",
       "    </tr>\n",
       "    <tr>\n",
       "      <th>4</th>\n",
       "      <td>ASUS</td>\n",
       "      <td>ASUSTUFGamingF15Corei5</td>\n",
       "      <td>Intel Core i5</td>\n",
       "      <td>8 GB DDR4</td>\n",
       "      <td>10th Gen</td>\n",
       "      <td>Windows 11</td>\n",
       "      <td>512 GB SSD39.62</td>\n",
       "      <td>(15.6 inch)</td>\n",
       "      <td>4.4</td>\n",
       "      <td>₹49,990</td>\n",
       "    </tr>\n",
       "    <tr>\n",
       "      <th>...</th>\n",
       "      <td>...</td>\n",
       "      <td>...</td>\n",
       "      <td>...</td>\n",
       "      <td>...</td>\n",
       "      <td>...</td>\n",
       "      <td>...</td>\n",
       "      <td>...</td>\n",
       "      <td>...</td>\n",
       "      <td>...</td>\n",
       "      <td>...</td>\n",
       "    </tr>\n",
       "    <tr>\n",
       "      <th>418</th>\n",
       "      <td>DELL</td>\n",
       "      <td>DELLCorei512thGen-</td>\n",
       "      <td>Intel Core i5</td>\n",
       "      <td>16 GB DDR5</td>\n",
       "      <td>12th Gen</td>\n",
       "      <td>64 bit Windows 11</td>\n",
       "      <td>512 GB SSD33.78</td>\n",
       "      <td>(13.3 Inch)</td>\n",
       "      <td>4.8</td>\n",
       "      <td>₹76,590</td>\n",
       "    </tr>\n",
       "    <tr>\n",
       "      <th>419</th>\n",
       "      <td>HP</td>\n",
       "      <td>HPPavilionRyzen7OctaCore</td>\n",
       "      <td>AMD Ryzen 7 Octa Core</td>\n",
       "      <td>16 GB DDR4</td>\n",
       "      <td>16 GB DDR4</td>\n",
       "      <td>64 bit Windows 10</td>\n",
       "      <td>512 GB SSD39.62</td>\n",
       "      <td>(15.6 inches)</td>\n",
       "      <td>4.6</td>\n",
       "      <td>₹90,000</td>\n",
       "    </tr>\n",
       "    <tr>\n",
       "      <th>420</th>\n",
       "      <td>ASUS</td>\n",
       "      <td>ASUSChromebookFlipTouchCeleronDual</td>\n",
       "      <td>Intel Celeron Dual Core</td>\n",
       "      <td>4 GB LPDDR4</td>\n",
       "      <td>4 GB LPDDR4</td>\n",
       "      <td>Chrome</td>\n",
       "      <td>29.46</td>\n",
       "      <td>(11.6 inch) Touchscreen</td>\n",
       "      <td>4.0</td>\n",
       "      <td>₹23,490</td>\n",
       "    </tr>\n",
       "    <tr>\n",
       "      <th>421</th>\n",
       "      <td>ASUS</td>\n",
       "      <td>ASUSZenbookFlip14OLED(2022)</td>\n",
       "      <td>Intel Core i7</td>\n",
       "      <td>16 GB LPDDR5</td>\n",
       "      <td>12th Gen</td>\n",
       "      <td>64 bit Windows 11</td>\n",
       "      <td>512 GB SSD35.56</td>\n",
       "      <td>(14 inch) Touchscreen</td>\n",
       "      <td>3.0</td>\n",
       "      <td>₹1,25,990</td>\n",
       "    </tr>\n",
       "    <tr>\n",
       "      <th>422</th>\n",
       "      <td>Lenovo</td>\n",
       "      <td>LenovoIdeapadSlim3iCorei5</td>\n",
       "      <td>Intel Core i5</td>\n",
       "      <td>8 GB DDR4</td>\n",
       "      <td>10th Gen</td>\n",
       "      <td>64 bit Windows 10</td>\n",
       "      <td>1 TB HDD|256 GB SSD39.62</td>\n",
       "      <td>(15.6 inch)</td>\n",
       "      <td>4.2</td>\n",
       "      <td>₹50,990</td>\n",
       "    </tr>\n",
       "  </tbody>\n",
       "</table>\n",
       "<p>423 rows × 10 columns</p>\n",
       "</div>"
      ],
      "text/plain": [
       "      Brand                          Model_Name            Processor_name  \\\n",
       "0    Lenovo            LenovoIdeaPad3Corei311th            Intel Core i3    \n",
       "1    Lenovo            LenovoIdeaPad3Corei311th            Intel Core i3    \n",
       "2      ASUS          ASUSVivoBook15(2022)Corei3            Intel Core i3    \n",
       "3        HP            HPPavilionRyzen5HexaCore    AMD Ryzen 5 Hexa Core    \n",
       "4      ASUS              ASUSTUFGamingF15Corei5            Intel Core i5    \n",
       "..      ...                                 ...                       ...   \n",
       "418    DELL                  DELLCorei512thGen-            Intel Core i5    \n",
       "419      HP            HPPavilionRyzen7OctaCore    AMD Ryzen 7 Octa Core    \n",
       "420    ASUS  ASUSChromebookFlipTouchCeleronDual  Intel Celeron Dual Core    \n",
       "421    ASUS         ASUSZenbookFlip14OLED(2022)            Intel Core i7    \n",
       "422  Lenovo           LenovoIdeapadSlim3iCorei5            Intel Core i5    \n",
       "\n",
       "               ram Processor_generation                  OS  \\\n",
       "0       8 GB DDR4              11th Gen  64 bit Windows 11    \n",
       "1       8 GB DDR4              11th Gen  64 bit Windows 11    \n",
       "2       8 GB DDR4              10th Gen  64 bit Windows 11    \n",
       "3       8 GB DDR4            8 GB DDR4   64 bit Windows 10    \n",
       "4       8 GB DDR4              10th Gen         Windows 11    \n",
       "..             ...                  ...                 ...   \n",
       "418    16 GB DDR5              12th Gen  64 bit Windows 11    \n",
       "419    16 GB DDR4           16 GB DDR4   64 bit Windows 10    \n",
       "420   4 GB LPDDR4          4 GB LPDDR4              Chrome    \n",
       "421  16 GB LPDDR5              12th Gen  64 bit Windows 11    \n",
       "422     8 GB DDR4              10th Gen  64 bit Windows 10    \n",
       "\n",
       "                       storage                screen_size  rating      price  \n",
       "0             256 GB SSD35.56                  (14 inch)      4.2    ₹36,990  \n",
       "1             512 GB SSD39.62                (15.6 inch)      4.2    ₹39,990  \n",
       "2             512 GB SSD39.62                (15.6 inch)      4.3    ₹32,990  \n",
       "3             512 GB SSD39.62                (15.6 inch)      4.4    ₹49,990  \n",
       "4             512 GB SSD39.62                (15.6 inch)      4.4    ₹49,990  \n",
       "..                         ...                        ...     ...        ...  \n",
       "418           512 GB SSD33.78                (13.3 Inch)      4.8    ₹76,590  \n",
       "419           512 GB SSD39.62              (15.6 inches)      4.6    ₹90,000  \n",
       "420                     29.46    (11.6 inch) Touchscreen      4.0    ₹23,490  \n",
       "421           512 GB SSD35.56      (14 inch) Touchscreen      3.0  ₹1,25,990  \n",
       "422  1 TB HDD|256 GB SSD39.62                (15.6 inch)      4.2    ₹50,990  \n",
       "\n",
       "[423 rows x 10 columns]"
      ]
     },
     "execution_count": 116,
     "metadata": {},
     "output_type": "execute_result"
    }
   ],
   "source": [
    "dff"
   ]
  },
  {
   "cell_type": "code",
   "execution_count": null,
   "id": "dc117840",
   "metadata": {},
   "outputs": [],
   "source": [
    "#after all those preprocessing we are left with 423 datapoints with 10 features"
   ]
  },
  {
   "cell_type": "code",
   "execution_count": null,
   "id": "07873633",
   "metadata": {},
   "outputs": [],
   "source": []
  },
  {
   "cell_type": "code",
   "execution_count": 117,
   "id": "96d0af98",
   "metadata": {},
   "outputs": [
    {
     "data": {
      "text/plain": [
       "11th Gen                                                                                                               118\n",
       "8 GB DDR4                                                                                                               75\n",
       "12th Gen                                                                                                                66\n",
       "10th Gen                                                                                                                53\n",
       "16 GB DDR4                                                                                                              30\n",
       "16 GB DDR5                                                                                                              15\n",
       "4 GB DDR4                                                                                                                8\n",
       "4 GB LPDDR4                                                                                                              7\n",
       "16 GB Unified Memory                                                                                                     6\n",
       "8 GB Unified Memory                                                                                                      5\n",
       "4th Gen                                                                                                                  4\n",
       "16 GB LPDDR5                                                                                                             4\n",
       "9th Gen                                                                                                                  3\n",
       "4 GB LPDDR4X                                                                                                             3\n",
       "8th Gen                                                                                                                  3\n",
       "8 GB DDR5                                                                                                                2\n",
       "5th Gen                                                                                                                  2\n",
       "Base- 1.70 GHz & Turbo up to 4.10 GHz                                                                                    2\n",
       "32 GB DDR5                                                                                                               2\n",
       "7th Gen                                                                                                                  1\n",
       "2.30 GHz up to 4.60 GHz                                                                                                  1\n",
       "16 GB LPDDR4X                                                                                                            1\n",
       ": 10th Generation Intel Core i3-1005G1                                                                                   1\n",
       ": 11th Generation Intel Core i5-1135G7                                                                                   1\n",
       "2.60 GHz up to 3.50 GHz                                                                                                  1\n",
       "2.10 GHz up to 3.50 GHz                                                                                                  1\n",
       "2.00 GHz up to 3.70 GHz                                                                                                  1\n",
       "3rd Gen                                                                                                                  1\n",
       "32 GB Unified Memory                                                                                                     1\n",
       "1.10 GHz up to 3.10 GHz                                                                                                  1\n",
       "8 GB LPDDR4X                                                                                                             1\n",
       "3.30 GHz up to 4.20 GHz                                                                                                  1\n",
       "Microsoft Office 2019 Home & Student IncludedStylish Thin and Light Laptop without Optical Disk DriveIntel Core i5       1\n",
       "32 GB LPDDR4X                                                                                                            1\n",
       "Name: Processor_generation, dtype: int64"
      ]
     },
     "execution_count": 117,
     "metadata": {},
     "output_type": "execute_result"
    }
   ],
   "source": [
    "dff[\"Processor_generation\"].value_counts()\n"
   ]
  },
  {
   "cell_type": "code",
   "execution_count": 118,
   "id": "2c9d4e9b",
   "metadata": {},
   "outputs": [],
   "source": [
    "def processor_filter(s):\n",
    "        if \"Gen\" in s:\n",
    "            return s\n",
    "        else:\n",
    "            return np.NAN       "
   ]
  },
  {
   "cell_type": "code",
   "execution_count": 119,
   "id": "1ee42b91",
   "metadata": {},
   "outputs": [
    {
     "data": {
      "text/plain": [
       "'3rd Gen'"
      ]
     },
     "execution_count": 119,
     "metadata": {},
     "output_type": "execute_result"
    }
   ],
   "source": [
    "processor_filter(\"3rd Gen\")\n"
   ]
  },
  {
   "cell_type": "code",
   "execution_count": 120,
   "id": "60079cdc",
   "metadata": {},
   "outputs": [],
   "source": [
    "dff[\"Processor_generation\"] = dff[\"Processor_generation\"].apply(processor_filter)\n"
   ]
  },
  {
   "cell_type": "code",
   "execution_count": 121,
   "id": "0ac92b03",
   "metadata": {},
   "outputs": [],
   "source": [
    "dff[\"screen_size_inch\"] = dff[\"screen_size\"].apply(lambda x : x.split(\"inch\")[0].replace(\"(\",\"\").replace(\")\",\"\").replace(\"Inch\",\"\"))\n"
   ]
  },
  {
   "cell_type": "code",
   "execution_count": 122,
   "id": "6ccd0cb7",
   "metadata": {},
   "outputs": [
    {
     "data": {
      "text/plain": [
       "(423, 11)"
      ]
     },
     "execution_count": 122,
     "metadata": {},
     "output_type": "execute_result"
    }
   ],
   "source": [
    "dff.shape\n"
   ]
  },
  {
   "cell_type": "code",
   "execution_count": 123,
   "id": "cba1f031",
   "metadata": {},
   "outputs": [],
   "source": [
    "dff = dff.drop([\"screen_size\"], axis=1)\n"
   ]
  },
  {
   "cell_type": "code",
   "execution_count": 124,
   "id": "64a1ba94",
   "metadata": {},
   "outputs": [
    {
     "data": {
      "text/plain": [
       "0.40189125295508277"
      ]
     },
     "execution_count": 124,
     "metadata": {},
     "output_type": "execute_result"
    }
   ],
   "source": [
    "dff[\"Processor_generation\"].isna().mean()\n"
   ]
  },
  {
   "cell_type": "code",
   "execution_count": 125,
   "id": "2e132b25",
   "metadata": {},
   "outputs": [],
   "source": [
    "dff[\"Processor_generation\"] = dff[\"Processor_generation\"].str.replace(\": 11th Generation Intel Core i5-1135G7\", \"11th Gen\").replace(\": 10th Generation Intel Core i3-1005G1\",\"10th Gen\")\n"
   ]
  },
  {
   "cell_type": "code",
   "execution_count": null,
   "id": "da737994",
   "metadata": {},
   "outputs": [],
   "source": [
    "# the final cleaned dataset is now saved to new csv file so that it can be used further any time"
   ]
  },
  {
   "cell_type": "code",
   "execution_count": 126,
   "id": "a71c4695",
   "metadata": {},
   "outputs": [],
   "source": [
    "dff.to_csv(r\"C:\\Users\\DELL\\Desktop\\Intership\\cleaned_data\\cleaned_data.csv\", index=False)\n"
   ]
  },
  {
   "cell_type": "code",
   "execution_count": 127,
   "id": "99b92e3e",
   "metadata": {},
   "outputs": [
    {
     "data": {
      "text/html": [
       "<div>\n",
       "<style scoped>\n",
       "    .dataframe tbody tr th:only-of-type {\n",
       "        vertical-align: middle;\n",
       "    }\n",
       "\n",
       "    .dataframe tbody tr th {\n",
       "        vertical-align: top;\n",
       "    }\n",
       "\n",
       "    .dataframe thead th {\n",
       "        text-align: right;\n",
       "    }\n",
       "</style>\n",
       "<table border=\"1\" class=\"dataframe\">\n",
       "  <thead>\n",
       "    <tr style=\"text-align: right;\">\n",
       "      <th></th>\n",
       "      <th>Brand</th>\n",
       "      <th>Model_Name</th>\n",
       "      <th>Processor_name</th>\n",
       "      <th>ram</th>\n",
       "      <th>Processor_generation</th>\n",
       "      <th>OS</th>\n",
       "      <th>storage</th>\n",
       "      <th>rating</th>\n",
       "      <th>price</th>\n",
       "      <th>screen_size_inch</th>\n",
       "    </tr>\n",
       "  </thead>\n",
       "  <tbody>\n",
       "    <tr>\n",
       "      <th>0</th>\n",
       "      <td>Lenovo</td>\n",
       "      <td>LenovoIdeaPad3Corei311th</td>\n",
       "      <td>Intel Core i3</td>\n",
       "      <td>8 GB DDR4</td>\n",
       "      <td>11th Gen</td>\n",
       "      <td>64 bit Windows 11</td>\n",
       "      <td>256 GB SSD35.56</td>\n",
       "      <td>4.2</td>\n",
       "      <td>₹36,990</td>\n",
       "      <td>14</td>\n",
       "    </tr>\n",
       "    <tr>\n",
       "      <th>1</th>\n",
       "      <td>Lenovo</td>\n",
       "      <td>LenovoIdeaPad3Corei311th</td>\n",
       "      <td>Intel Core i3</td>\n",
       "      <td>8 GB DDR4</td>\n",
       "      <td>11th Gen</td>\n",
       "      <td>64 bit Windows 11</td>\n",
       "      <td>512 GB SSD39.62</td>\n",
       "      <td>4.2</td>\n",
       "      <td>₹39,990</td>\n",
       "      <td>15.6</td>\n",
       "    </tr>\n",
       "    <tr>\n",
       "      <th>2</th>\n",
       "      <td>ASUS</td>\n",
       "      <td>ASUSVivoBook15(2022)Corei3</td>\n",
       "      <td>Intel Core i3</td>\n",
       "      <td>8 GB DDR4</td>\n",
       "      <td>10th Gen</td>\n",
       "      <td>64 bit Windows 11</td>\n",
       "      <td>512 GB SSD39.62</td>\n",
       "      <td>4.3</td>\n",
       "      <td>₹32,990</td>\n",
       "      <td>15.6</td>\n",
       "    </tr>\n",
       "    <tr>\n",
       "      <th>3</th>\n",
       "      <td>HP</td>\n",
       "      <td>HPPavilionRyzen5HexaCore</td>\n",
       "      <td>AMD Ryzen 5 Hexa Core</td>\n",
       "      <td>8 GB DDR4</td>\n",
       "      <td>NaN</td>\n",
       "      <td>64 bit Windows 10</td>\n",
       "      <td>512 GB SSD39.62</td>\n",
       "      <td>4.4</td>\n",
       "      <td>₹49,990</td>\n",
       "      <td>15.6</td>\n",
       "    </tr>\n",
       "    <tr>\n",
       "      <th>4</th>\n",
       "      <td>ASUS</td>\n",
       "      <td>ASUSTUFGamingF15Corei5</td>\n",
       "      <td>Intel Core i5</td>\n",
       "      <td>8 GB DDR4</td>\n",
       "      <td>10th Gen</td>\n",
       "      <td>Windows 11</td>\n",
       "      <td>512 GB SSD39.62</td>\n",
       "      <td>4.4</td>\n",
       "      <td>₹49,990</td>\n",
       "      <td>15.6</td>\n",
       "    </tr>\n",
       "    <tr>\n",
       "      <th>...</th>\n",
       "      <td>...</td>\n",
       "      <td>...</td>\n",
       "      <td>...</td>\n",
       "      <td>...</td>\n",
       "      <td>...</td>\n",
       "      <td>...</td>\n",
       "      <td>...</td>\n",
       "      <td>...</td>\n",
       "      <td>...</td>\n",
       "      <td>...</td>\n",
       "    </tr>\n",
       "    <tr>\n",
       "      <th>418</th>\n",
       "      <td>DELL</td>\n",
       "      <td>DELLCorei512thGen-</td>\n",
       "      <td>Intel Core i5</td>\n",
       "      <td>16 GB DDR5</td>\n",
       "      <td>12th Gen</td>\n",
       "      <td>64 bit Windows 11</td>\n",
       "      <td>512 GB SSD33.78</td>\n",
       "      <td>4.8</td>\n",
       "      <td>₹76,590</td>\n",
       "      <td>13.3</td>\n",
       "    </tr>\n",
       "    <tr>\n",
       "      <th>419</th>\n",
       "      <td>HP</td>\n",
       "      <td>HPPavilionRyzen7OctaCore</td>\n",
       "      <td>AMD Ryzen 7 Octa Core</td>\n",
       "      <td>16 GB DDR4</td>\n",
       "      <td>NaN</td>\n",
       "      <td>64 bit Windows 10</td>\n",
       "      <td>512 GB SSD39.62</td>\n",
       "      <td>4.6</td>\n",
       "      <td>₹90,000</td>\n",
       "      <td>15.6</td>\n",
       "    </tr>\n",
       "    <tr>\n",
       "      <th>420</th>\n",
       "      <td>ASUS</td>\n",
       "      <td>ASUSChromebookFlipTouchCeleronDual</td>\n",
       "      <td>Intel Celeron Dual Core</td>\n",
       "      <td>4 GB LPDDR4</td>\n",
       "      <td>NaN</td>\n",
       "      <td>Chrome</td>\n",
       "      <td>29.46</td>\n",
       "      <td>4.0</td>\n",
       "      <td>₹23,490</td>\n",
       "      <td>11.6</td>\n",
       "    </tr>\n",
       "    <tr>\n",
       "      <th>421</th>\n",
       "      <td>ASUS</td>\n",
       "      <td>ASUSZenbookFlip14OLED(2022)</td>\n",
       "      <td>Intel Core i7</td>\n",
       "      <td>16 GB LPDDR5</td>\n",
       "      <td>12th Gen</td>\n",
       "      <td>64 bit Windows 11</td>\n",
       "      <td>512 GB SSD35.56</td>\n",
       "      <td>3.0</td>\n",
       "      <td>₹1,25,990</td>\n",
       "      <td>14</td>\n",
       "    </tr>\n",
       "    <tr>\n",
       "      <th>422</th>\n",
       "      <td>Lenovo</td>\n",
       "      <td>LenovoIdeapadSlim3iCorei5</td>\n",
       "      <td>Intel Core i5</td>\n",
       "      <td>8 GB DDR4</td>\n",
       "      <td>10th Gen</td>\n",
       "      <td>64 bit Windows 10</td>\n",
       "      <td>1 TB HDD|256 GB SSD39.62</td>\n",
       "      <td>4.2</td>\n",
       "      <td>₹50,990</td>\n",
       "      <td>15.6</td>\n",
       "    </tr>\n",
       "  </tbody>\n",
       "</table>\n",
       "<p>423 rows × 10 columns</p>\n",
       "</div>"
      ],
      "text/plain": [
       "      Brand                          Model_Name            Processor_name  \\\n",
       "0    Lenovo            LenovoIdeaPad3Corei311th            Intel Core i3    \n",
       "1    Lenovo            LenovoIdeaPad3Corei311th            Intel Core i3    \n",
       "2      ASUS          ASUSVivoBook15(2022)Corei3            Intel Core i3    \n",
       "3        HP            HPPavilionRyzen5HexaCore    AMD Ryzen 5 Hexa Core    \n",
       "4      ASUS              ASUSTUFGamingF15Corei5            Intel Core i5    \n",
       "..      ...                                 ...                       ...   \n",
       "418    DELL                  DELLCorei512thGen-            Intel Core i5    \n",
       "419      HP            HPPavilionRyzen7OctaCore    AMD Ryzen 7 Octa Core    \n",
       "420    ASUS  ASUSChromebookFlipTouchCeleronDual  Intel Celeron Dual Core    \n",
       "421    ASUS         ASUSZenbookFlip14OLED(2022)            Intel Core i7    \n",
       "422  Lenovo           LenovoIdeapadSlim3iCorei5            Intel Core i5    \n",
       "\n",
       "               ram Processor_generation                  OS  \\\n",
       "0       8 GB DDR4              11th Gen  64 bit Windows 11    \n",
       "1       8 GB DDR4              11th Gen  64 bit Windows 11    \n",
       "2       8 GB DDR4              10th Gen  64 bit Windows 11    \n",
       "3       8 GB DDR4                   NaN  64 bit Windows 10    \n",
       "4       8 GB DDR4              10th Gen         Windows 11    \n",
       "..             ...                  ...                 ...   \n",
       "418    16 GB DDR5              12th Gen  64 bit Windows 11    \n",
       "419    16 GB DDR4                   NaN  64 bit Windows 10    \n",
       "420   4 GB LPDDR4                   NaN             Chrome    \n",
       "421  16 GB LPDDR5              12th Gen  64 bit Windows 11    \n",
       "422     8 GB DDR4              10th Gen  64 bit Windows 10    \n",
       "\n",
       "                       storage  rating      price screen_size_inch  \n",
       "0             256 GB SSD35.56      4.2    ₹36,990              14   \n",
       "1             512 GB SSD39.62      4.2    ₹39,990            15.6   \n",
       "2             512 GB SSD39.62      4.3    ₹32,990            15.6   \n",
       "3             512 GB SSD39.62      4.4    ₹49,990            15.6   \n",
       "4             512 GB SSD39.62      4.4    ₹49,990            15.6   \n",
       "..                         ...     ...        ...              ...  \n",
       "418           512 GB SSD33.78      4.8    ₹76,590           13.3    \n",
       "419           512 GB SSD39.62      4.6    ₹90,000            15.6   \n",
       "420                     29.46      4.0    ₹23,490            11.6   \n",
       "421           512 GB SSD35.56      3.0  ₹1,25,990              14   \n",
       "422  1 TB HDD|256 GB SSD39.62      4.2    ₹50,990            15.6   \n",
       "\n",
       "[423 rows x 10 columns]"
      ]
     },
     "execution_count": 127,
     "metadata": {},
     "output_type": "execute_result"
    }
   ],
   "source": [
    "pd.read_csv(r\"C:\\Users\\DELL\\Desktop\\Intership\\cleaned_data\\cleaned_data.csv\")"
   ]
  },
  {
   "cell_type": "code",
   "execution_count": 128,
   "id": "e59eaf3b",
   "metadata": {},
   "outputs": [
    {
     "name": "stdout",
     "output_type": "stream",
     "text": [
      "<class 'pandas.core.frame.DataFrame'>\n",
      "RangeIndex: 423 entries, 0 to 422\n",
      "Data columns (total 10 columns):\n",
      " #   Column                Non-Null Count  Dtype  \n",
      "---  ------                --------------  -----  \n",
      " 0   Brand                 423 non-null    object \n",
      " 1   Model_Name            423 non-null    object \n",
      " 2   Processor_name        423 non-null    object \n",
      " 3   ram                   423 non-null    object \n",
      " 4   Processor_generation  253 non-null    object \n",
      " 5   OS                    423 non-null    object \n",
      " 6   storage               423 non-null    object \n",
      " 7   rating                423 non-null    float64\n",
      " 8   price                 423 non-null    object \n",
      " 9   screen_size_inch      423 non-null    object \n",
      "dtypes: float64(1), object(9)\n",
      "memory usage: 33.2+ KB\n"
     ]
    }
   ],
   "source": [
    "dff.info()"
   ]
  },
  {
   "cell_type": "code",
   "execution_count": null,
   "id": "050f2bb1",
   "metadata": {},
   "outputs": [],
   "source": [
    "#the above info says that there is a need to change astype of few columns"
   ]
  },
  {
   "cell_type": "code",
   "execution_count": null,
   "id": "f1c7a81a",
   "metadata": {},
   "outputs": [],
   "source": []
  },
  {
   "cell_type": "code",
   "execution_count": null,
   "id": "a0d1e1a3",
   "metadata": {},
   "outputs": [],
   "source": []
  }
 ],
 "metadata": {
  "kernelspec": {
   "display_name": "Python 3 (ipykernel)",
   "language": "python",
   "name": "python3"
  },
  "language_info": {
   "codemirror_mode": {
    "name": "ipython",
    "version": 3
   },
   "file_extension": ".py",
   "mimetype": "text/x-python",
   "name": "python",
   "nbconvert_exporter": "python",
   "pygments_lexer": "ipython3",
   "version": "3.9.12"
  }
 },
 "nbformat": 4,
 "nbformat_minor": 5
}
